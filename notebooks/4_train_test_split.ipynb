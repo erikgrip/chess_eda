{
 "cells": [
  {
   "cell_type": "markdown",
   "id": "b5ceb9e3-47e5-483d-b537-8b70047323ae",
   "metadata": {},
   "source": [
    "## Train test split\n",
    "\n",
    "To avoid leaking information about the test data into training we split the data now, before engineering and selecting features."
   ]
  },
  {
   "cell_type": "code",
   "execution_count": 7,
   "id": "7c7e50d6-d5a2-4cfa-9eed-59069f0b42e4",
   "metadata": {},
   "outputs": [],
   "source": [
    "# Import packages\n",
    "import pandas as pd\n",
    "import numpy as np\n",
    "import pyarrow.parquet as pq\n",
    "from sklearn.model_selection import train_test_split"
   ]
  },
  {
   "cell_type": "markdown",
   "id": "1a47e0e8-aa44-4851-8286-4731feea7166",
   "metadata": {},
   "source": [
    "### Load data"
   ]
  },
  {
   "cell_type": "code",
   "execution_count": 8,
   "id": "8e0b8a57-ac1f-4062-bfd7-f407a5c860ea",
   "metadata": {},
   "outputs": [],
   "source": [
    "# Load parquet data\n",
    "parquet_table = pq.read_table('/home/jovyan/work/data/data.parquet')\n",
    "\n",
    "# Read data into a pandas DataFrame : df\n",
    "df = parquet_table.to_pandas()"
   ]
  },
  {
   "cell_type": "markdown",
   "id": "0544130d-5ad4-44b6-9c33-da9b25bd1d38",
   "metadata": {
    "tags": []
   },
   "source": [
    "### Filter rows  \n",
    "Only use 3 minute blitz games, as stated in the problem definition"
   ]
  },
  {
   "cell_type": "code",
   "execution_count": 9,
   "id": "b4758be4-b48a-4db2-be88-04e5f64d47ae",
   "metadata": {},
   "outputs": [],
   "source": [
    "# Drop games not in the 3 minute blitz time class\n",
    "df = df.loc[df['time_class'] == 'blitz'].copy()"
   ]
  },
  {
   "cell_type": "markdown",
   "id": "3fe42c68-836e-49b8-aeef-ac648b518a86",
   "metadata": {},
   "source": [
    "### Train test split"
   ]
  },
  {
   "cell_type": "code",
   "execution_count": 10,
   "id": "13b136ae-a71f-46ed-bffa-819a82ba5c42",
   "metadata": {},
   "outputs": [],
   "source": [
    "# Split and put back together for ease of using sklearn's train_test_split\n",
    "y = df['is_loss']\n",
    "X = df.drop('is_loss', axis=1)\n",
    "\n",
    "X_train, X_test, y_train, y_test = train_test_split(\n",
    "    X, y,\n",
    "    test_size=0.20,\n",
    "    random_state=1)\n",
    "\n",
    "train_data = X_train.merge(y_train, left_index=True, right_index=True)\n",
    "test_data = X_test.merge(y_test, left_index=True, right_index=True)"
   ]
  },
  {
   "cell_type": "markdown",
   "id": "36f3e80f-79b8-44f1-b990-258353629fe2",
   "metadata": {},
   "source": [
    "### Save data"
   ]
  },
  {
   "cell_type": "code",
   "execution_count": 11,
   "id": "0b10d409-ba3b-4395-a53c-29a2e2c2afd4",
   "metadata": {},
   "outputs": [],
   "source": [
    "destination_folder = '/home/jovyan/work/data/'\n",
    "train_data.to_csv(destination_folder + 'train_data.csv', index=False)\n",
    "test_data.to_csv(destination_folder + 'test_data.csv', index=False)"
   ]
  }
 ],
 "metadata": {
  "kernelspec": {
   "display_name": "Python 3 (ipykernel)",
   "language": "python",
   "name": "python3"
  },
  "language_info": {
   "codemirror_mode": {
    "name": "ipython",
    "version": 3
   },
   "file_extension": ".py",
   "mimetype": "text/x-python",
   "name": "python",
   "nbconvert_exporter": "python",
   "pygments_lexer": "ipython3",
   "version": "3.9.7"
  }
 },
 "nbformat": 4,
 "nbformat_minor": 5
}
