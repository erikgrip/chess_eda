{
 "cells": [
  {
   "cell_type": "markdown",
   "id": "dc61e6ee-9cb7-4571-9a35-eafef22af126",
   "metadata": {},
   "source": [
    "## Problem Definition\n",
    "\n",
    "The player chosen here is 'gripklo' which is my own alias. The most obvious prediction task on this data set is to try to predict the outcome of the game. The use case is perhaps a bit flawed in that I control the outcome to a certain extent. But this is a project for fun so let's just note that and move on!\n",
    "\n",
    "As seen in the exploratory data analysis (EDA) most of the games are in the **blitz time class**, and for that reason the task will be narrowed down to blitz games.\n",
    "\n",
    "There are many ways one could choose to define the **target variable**. I'm going to go with **whether I lost or not**. That means the target variable is **binary** and that the classes are quite **balanced** with losses accounting for about 48% of the records. Since the data is balanced and I'm not more interested to get the 1's correctly predicted than the 0's I'm going to go with **accuracy** as the evaluation metric.\n",
    "\n",
    "As the idea is to predict an outcome, I'm only going to use features that would be available at the forst move of the game. That disqualifies potential features like ECO code or game duration.\n",
    "\n",
    "\n",
    "\n",
    "This boils down to the classification task to:  \n",
    "**Predict whether 'gripklo' will lose a blitz game that is just about to start, with as high accuracy as possible.**"
   ]
  },
  {
   "cell_type": "code",
   "execution_count": null,
   "id": "e6d82ad1-0fc0-43b5-b181-430a1effbc8e",
   "metadata": {},
   "outputs": [],
   "source": []
  }
 ],
 "metadata": {
  "kernelspec": {
   "display_name": "Python 3 (ipykernel)",
   "language": "python",
   "name": "python3"
  },
  "language_info": {
   "codemirror_mode": {
    "name": "ipython",
    "version": 3
   },
   "file_extension": ".py",
   "mimetype": "text/x-python",
   "name": "python",
   "nbconvert_exporter": "python",
   "pygments_lexer": "ipython3",
   "version": "3.9.7"
  }
 },
 "nbformat": 4,
 "nbformat_minor": 5
}
